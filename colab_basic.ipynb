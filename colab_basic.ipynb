{
  "nbformat": 4,
  "nbformat_minor": 0,
  "metadata": {
    "colab": {
      "name": "colab_basic.ipynb",
      "provenance": [],
      "collapsed_sections": [
        "KWiDzL8pAPm1"
      ],
      "toc_visible": true,
      "authorship_tag": "ABX9TyP8gXbD4UUutrSB5k+GieBR",
      "include_colab_link": true
    },
    "kernelspec": {
      "name": "python3",
      "display_name": "Python 3"
    }
  },
  "cells": [
    {
      "cell_type": "markdown",
      "metadata": {
        "id": "view-in-github",
        "colab_type": "text"
      },
      "source": [
        "<a href=\"https://colab.research.google.com/github/hs2sks/Web-home/blob/master/colab_basic.ipynb\" target=\"_parent\"><img src=\"https://colab.research.google.com/assets/colab-badge.svg\" alt=\"Open In Colab\"/></a>"
      ]
    },
    {
      "cell_type": "markdown",
      "metadata": {
        "id": "rN650Jzw3gpt"
      },
      "source": [
        "# 구글 코랩 기초 사용법\r\n",
        "<h1>HTML도 일부 사용할 수 있음.</h1>\r\n",
        "<h2><strong>코랩 메모장</strong> 사용법 학습 필요</h2>"
      ]
    },
    {
      "cell_type": "markdown",
      "metadata": {
        "id": "KWiDzL8pAPm1"
      },
      "source": [
        "## 마크다운 스타일\r\n",
        "\r\n",
        "마크다운 | 미리보기\r\n",
        "--- | ---\r\n",
        "`**굵게**` | **굵게**\r\n",
        "`*기울임꼴*` or `_기울임꼴_` | *기울임꼴*\r\n",
        "`~~가운데 줄~~` | ~~가운데 줄~~\r\n",
        "`[구글 링크](http://www.google.com)` | [구글링크](http://www.google.com)\r\n",
        "`![이미지](http://www.google.com/images/rss.png)`|![이미지](http://www.google.com/images/rss.png)"
      ]
    },
    {
      "cell_type": "markdown",
      "metadata": {
        "id": "vp6uZSMwDpNQ"
      },
      "source": [
        "### 글씨 제목\r\n",
        "\r\n",
        "```\r\n",
        "# 큰제목\r\n",
        "## 중간제목\r\n",
        "### 마지막 제목\r\n",
        "일반\r\n",
        "```\r\n",
        "\r\n",
        "#큰제목\r\n",
        "## 중간제목\r\n",
        "### 마지막 제목\r\n",
        "일반"
      ]
    },
    {
      "cell_type": "markdown",
      "metadata": {
        "id": "hqgVknfGEUHb"
      },
      "source": [
        "### 뛰어쓰기\r\n",
        "```\r\n",
        ">탭 한번\r\n",
        ">>탭 두번\r\n",
        "```\r\n",
        ">탭 한번\r\n",
        "\r\n",
        ">>탭 두번"
      ]
    },
    {
      "cell_type": "markdown",
      "metadata": {
        "id": "rMuugG1oEtrB"
      },
      "source": [
        "### 순서가 있는 리스트와 없는 리스트\r\n",
        "``` 순서가 있는 리스트\r\n",
        "1. 1\r\n",
        "1. 2\r\n",
        "1. 3\r\n",
        "```\r\n",
        "1. 1\r\n",
        "1. 2\r\n",
        "1. 3\r\n",
        "\r\n",
        "``` 순서가 없는 리스트\r\n",
        "* 1\r\n",
        "* 2\r\n",
        "* 3\r\n",
        "```\r\n",
        "* 1\r\n",
        "* 2\r\n",
        "* 3\r\n"
      ]
    },
    {
      "cell_type": "markdown",
      "metadata": {
        "id": "uzcKVZK5FcKR"
      },
      "source": [
        "### 코드 블록처리\r\n",
        "````\r\n",
        "```python\r\n",
        "print('a')\r\n",
        "```\r\n",
        "````\r\n",
        "```python\r\n",
        "print('a')\r\n",
        "```"
      ]
    },
    {
      "cell_type": "markdown",
      "metadata": {
        "id": "PX56d_EuF57l"
      },
      "source": [
        "### 방정식 표현(LaTeX)\r\n",
        "```mark down\r\n",
        "$y=x^2$\r\n",
        "\r\n",
        "$e^{i\\pi}+1 = 0$\r\n",
        "\r\n",
        "$e^x=\\sum_{i=0}^\\infty \\frac{1}{i!}x^i$\r\n",
        "\r\n",
        "$\\frac{n!}{k!(n-k)!} = {n \\choose k}$\r\n",
        "\r\n",
        "$A_{m,n} =\r\n",
        " \\begin{pmatrix}\r\n",
        "  a_{1,1} & a_{1,2} & \\cdots & a_{1,n} \\\\\r\n",
        "  a_{2,1} & a_{2,2} & \\cdots & a_{2,n} \\\\\r\n",
        "  \\vdots  & \\vdots  & \\ddots & \\vdots  \\\\\r\n",
        "  a_{m,1} & a_{m,2} & \\cdots & a_{m,n}\r\n",
        " \\end{pmatrix}$\r\n",
        "\r\n",
        "```\r\n",
        "\r\n",
        "$y=x^2$\r\n",
        "\r\n",
        "$e^{i\\pi}+1 = 0$\r\n",
        "\r\n",
        "$e^x=\\sum_{i=0}^\\infty \\frac{1}{i!}x^i$\r\n",
        "\r\n",
        "$\\frac{n!}{k!(n-k)!} = {n \\choose k}$\r\n",
        "\r\n",
        "$A_{m,n} =\r\n",
        " \\begin{pmatrix}\r\n",
        "  a_{1,1} & a_{1,2} & \\cdots & a_{1,n} \\\\\r\n",
        "  a_{2,1} & a_{2,2} & \\cdots & a_{2,n} \\\\\r\n",
        "  \\vdots  & \\vdots  & \\ddots & \\vdots  \\\\\r\n",
        "  a_{m,1} & a_{m,2} & \\cdots & a_{m,n}\r\n",
        " \\end{pmatrix}$"
      ]
    },
    {
      "cell_type": "markdown",
      "metadata": {
        "id": "LOLjxVYsIvcg"
      },
      "source": [
        "### 표그리기\r\n",
        "```markdown\r\n",
        "1열 | 2열\r\n",
        "---|---\r\n",
        "1행, 1열 | 1행 2열\r\n",
        "2행, 1열 | 2행 2열\r\n",
        "```\r\n",
        "1열 | 2열\r\n",
        "---|---\r\n",
        "1행, 1열 | 1행 2열\r\n",
        "2행, 1열 | 2행 2열\r\n"
      ]
    },
    {
      "cell_type": "markdown",
      "metadata": {
        "id": "1VadowcLJ8V-"
      },
      "source": [
        "## LaTeX 사용법\r\n",
        "[LaTeX 위키 문서](https://ko.wikipedia.org/wiki/%EC%9C%84%ED%82%A4%EB%B0%B1%EA%B3%BC:TeX_%EB%AC%B8%EB%B2%95)\r\n"
      ]
    },
    {
      "cell_type": "markdown",
      "metadata": {
        "id": "k6B74j_g5iY_"
      },
      "source": [
        "# 사전 작업\r\n",
        "> Google 드라이브에 라이브러리 설치하기\r\n",
        "\r\n",
        "> 구글 드라이브 마운트"
      ]
    },
    {
      "cell_type": "code",
      "metadata": {
        "id": "O8nHsADc5vP9",
        "colab": {
          "base_uri": "https://localhost:8080/"
        },
        "outputId": "37191754-1573-474f-f8b5-13bf253f2e1a"
      },
      "source": [
        "# 파이썬 \r\n",
        "print('hello')"
      ],
      "execution_count": null,
      "outputs": [
        {
          "output_type": "stream",
          "text": [
            "hello\n"
          ],
          "name": "stdout"
        }
      ]
    }
  ]
}